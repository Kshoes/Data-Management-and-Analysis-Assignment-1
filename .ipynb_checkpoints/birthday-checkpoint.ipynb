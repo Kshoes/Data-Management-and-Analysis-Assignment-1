{
 "cells": [
  {
   "cell_type": "code",
   "execution_count": 1,
   "metadata": {},
   "outputs": [
    {
     "name": "stdin",
     "output_type": "stream",
     "text": [
      "How many times should I run the simulation?\n",
      " 10\n",
      "How many birthdays should I generate per trial?\n",
      " 10\n"
     ]
    },
    {
     "name": "stdout",
     "output_type": "stream",
     "text": [
      "Trial #0: 0 date(s) occurred more than once! \n",
      "Trial #1: 0 date(s) occurred more than once! \n",
      "Trial #2: 0 date(s) occurred more than once! \n",
      "Trial #3: 0 date(s) occurred more than once! \n",
      "Trial #4: 1 date(s) occurred more than once! February 12\n",
      "Trial #5: 0 date(s) occurred more than once! \n",
      "Trial #6: 0 date(s) occurred more than once! \n",
      "Trial #7: 1 date(s) occurred more than once! February 1\n",
      "Trial #8: 0 date(s) occurred more than once! \n",
      "Trial #9: 0 date(s) occurred more than once! \n",
      "Results:\n",
      "====\n",
      "Out of 10 trials, 2 had dates that were repeated\n",
      "We can conclude that you have a 20.0% chance of sharing a birthday with someone if you are in a group of 10 people\n"
     ]
    }
   ],
   "source": [
    "# birthday.py\n",
    "\n",
    "import mydate\n",
    "\n",
    "num_trials = input(\"How many times should I run the simulation?\\n\")\n",
    "birthdays_per_trial = input(\"How many birthdays should I generate per trial?\\n\")\n",
    "\n",
    "duplicate_dates_count = 0\n",
    "\n",
    "for x in range(int(num_trials)):\n",
    "    \n",
    "    num_duplicates = 0\n",
    "    new_dates = dict()\n",
    "    duplicate_dates = set(())\n",
    "    \n",
    "    for y in range(int(birthdays_per_trial)):\n",
    "        \n",
    "        new_date = mydate.generate_date(1998, 1999)\n",
    "        new_date.pop(0) # removing year\n",
    "        # print(new_date)\n",
    "        new_date = mydate.date_to_string(new_date)\n",
    "        \n",
    "        if new_date in new_dates:\n",
    "            new_dates[new_date] += 1\n",
    "            duplicate_dates.add(new_date)\n",
    "            num_duplicates += 1\n",
    "        else:\n",
    "            new_dates[new_date] = 1\n",
    "            \n",
    "    dup_dates_string = \", \".join(x for x in duplicate_dates)\n",
    "            \n",
    "    trial_message = \"Trial #{}: {} date(s) occurred more than once! {}\"\n",
    "    print(trial_message.format(x, num_duplicates, dup_dates_string))\n",
    "    \n",
    "    if len(duplicate_dates) != 0:\n",
    "        duplicate_dates_count += 1\n",
    "\n",
    "if(duplicate_dates_count == 0):\n",
    "    percentage = 0\n",
    "else:\n",
    "    percentage = 100 * duplicate_dates_count/int(num_trials) \n",
    "results = \"Results:\\n====\\nOut of {} trials, {} had dates that were repeated\\nWe can conclude that you have a {}% chance of sharing a birthday with someone if you are in a group of {} people\"\n",
    "print(results.format(int(num_trials), duplicate_dates_count, percentage, int(birthdays_per_trial)))\n",
    "\n"
   ]
  },
  {
   "cell_type": "code",
   "execution_count": null,
   "metadata": {},
   "outputs": [],
   "source": []
  }
 ],
 "metadata": {
  "kernelspec": {
   "display_name": "Python 3",
   "language": "python",
   "name": "python3"
  },
  "language_info": {
   "codemirror_mode": {
    "name": "ipython",
    "version": 3
   },
   "file_extension": ".py",
   "mimetype": "text/x-python",
   "name": "python",
   "nbconvert_exporter": "python",
   "pygments_lexer": "ipython3",
   "version": "3.7.4"
  }
 },
 "nbformat": 4,
 "nbformat_minor": 4
}
