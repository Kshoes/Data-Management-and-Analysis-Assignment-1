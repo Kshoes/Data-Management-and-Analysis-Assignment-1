{
 "cells": [
  {
   "cell_type": "markdown",
   "metadata": {},
   "source": [
    "What are the most common words in the Bible?"
   ]
  },
  {
   "cell_type": "code",
   "execution_count": 8,
   "metadata": {},
   "outputs": [
    {
     "name": "stdin",
     "output_type": "stream",
     "text": [
      "How many most common words to display:  20\n"
     ]
    },
    {
     "name": "stdout",
     "output_type": "stream",
     "text": [
      "\n",
      "The 20 most common words are:\n",
      "\n",
      "lord :  7475\n",
      "be :  7012\n",
      "is :  7004\n",
      "not :  6481\n",
      "him :  6348\n",
      "them :  6121\n",
      "with :  6056\n",
      "it :  5923\n",
      "all :  5622\n",
      "thou :  5408\n",
      "thy :  4600\n",
      "was :  4519\n",
      "which :  4411\n",
      "my :  4368\n",
      "god :  4123\n",
      "said :  3996\n",
      "but :  3988\n",
      "ye :  3950\n",
      "their :  3931\n",
      "have :  3907\n"
     ]
    }
   ],
   "source": [
    "import collections\n",
    "\n",
    "# Open and read the file (Bible)\n",
    "file = open('kjvbible.txt', encoding=\"utf8\")\n",
    "a = file.read()\n",
    "\n",
    "# Implement words to exclude from the count like pronouns, conjunctions, etc.\n",
    "filter_words = set(line.strip() for line in open('filterwords.txt'))\n",
    "filter_words = filter_words.union(set(['the','and','of','to','that', 'in', 'he', 'shall', 'unto', 'for', 'i', 'his', 'a', 'they']))\n",
    "\n",
    "# Instantiate a dictionary, and for every word in the file, if it doesn't exist, add it to the dictionary. If it does, increase the count (increment value by 1).\n",
    "wordcount = {}\n",
    "\n",
    "# To filter out duplicate word entries in the dictionary, normalize each word by removing non-alphabetical characters and set to lowercase\n",
    "for word in a.lower().split():\n",
    "    word = word.replace(\".\",\"\")\n",
    "    word = word.replace(\",\",\"\")\n",
    "    word = word.replace(\":\",\"\")\n",
    "    word = word.replace(\"\\\"\",\"\")\n",
    "    word = word.replace(\"!\",\"\")\n",
    "    word = word.replace(\"*\",\"\")\n",
    "    if word not in filter_words:\n",
    "        if word not in wordcount:\n",
    "            wordcount[word] = 1\n",
    "        else:\n",
    "            wordcount[word] += 1\n",
    "            \n",
    "# Print the most common words, with the number of words displayed specified by the user\n",
    "num_display = int(input(\"How many most common words to display: \"))\n",
    "print(\"\\nThe {} most common words are:\\n\".format(num_display))\n",
    "word_counter = collections.Counter(wordcount)\n",
    "for word, count in word_counter.most_common(num_display):\n",
    "    print(word, \": \", count)\n",
    "    \n",
    "# Close the file\n",
    "file.close()"
   ]
  },
  {
   "cell_type": "code",
   "execution_count": null,
   "metadata": {},
   "outputs": [],
   "source": []
  }
 ],
 "metadata": {
  "kernelspec": {
   "display_name": "Python 3",
   "language": "python",
   "name": "python3"
  },
  "language_info": {
   "codemirror_mode": {
    "name": "ipython",
    "version": 3
   },
   "file_extension": ".py",
   "mimetype": "text/x-python",
   "name": "python",
   "nbconvert_exporter": "python",
   "pygments_lexer": "ipython3",
   "version": "3.7.4"
  }
 },
 "nbformat": 4,
 "nbformat_minor": 4
}
